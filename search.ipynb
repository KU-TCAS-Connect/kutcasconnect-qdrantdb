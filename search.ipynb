{
 "cells": [
  {
   "cell_type": "code",
   "execution_count": 3,
   "id": "9d0d0d9a-3b1e-4a69-ba9c-d0faf32f42de",
   "metadata": {},
   "outputs": [],
   "source": [
    "import uuid\n",
    "import os\n",
    "from datetime import datetime\n",
    "import pandas as pd\n",
    "import numpy as np\n",
    "import openai\n",
    "from dotenv import load_dotenv\n",
    "from qdrant_client import QdrantClient\n",
    "from qdrant_client.models import PointStruct, Distance, VectorParams"
   ]
  },
  {
   "cell_type": "code",
   "execution_count": 4,
   "id": "21aff7f0-ccaf-415b-be89-a064d47ccaf7",
   "metadata": {},
   "outputs": [
    {
     "data": {
      "text/plain": [
       "True"
      ]
     },
     "execution_count": 4,
     "metadata": {},
     "output_type": "execute_result"
    }
   ],
   "source": [
    "load_dotenv()"
   ]
  },
  {
   "cell_type": "code",
   "execution_count": 12,
   "id": "719c60b2-1ecc-41d2-aaf4-7842f35fc57a",
   "metadata": {},
   "outputs": [],
   "source": [
    "client = QdrantClient(\"http://localhost:6333\")\n",
    "collection_name = \"admission_records\""
   ]
  },
  {
   "cell_type": "code",
   "execution_count": 19,
   "id": "621b7427-1ff4-40d7-8a11-e47a082229c7",
   "metadata": {},
   "outputs": [
    {
     "data": {
      "text/plain": [
       "True"
      ]
     },
     "execution_count": 19,
     "metadata": {},
     "output_type": "execute_result"
    }
   ],
   "source": [
    "client.delete_collection(collection_name=collection_name)"
   ]
  },
  {
   "cell_type": "code",
   "execution_count": 20,
   "id": "444f9837-f2ae-4af6-a58f-c67b24028510",
   "metadata": {},
   "outputs": [],
   "source": [
    "def create_collection():\n",
    "    client.create_collection(\n",
    "        collection_name=collection_name,\n",
    "        vectors_config=VectorParams(\n",
    "            size=1536,  # OpenAI embedding size for text-embedding-3-small\n",
    "            distance=Distance.COSINE  # Choose from COSINE, EUCLIDEAN, DOT\n",
    "        )\n",
    "    )\n",
    "    print(f\"Collection '{collection_name}' created successfully.\")"
   ]
  },
  {
   "cell_type": "code",
   "execution_count": 21,
   "id": "f5cd57f5-c175-46e5-8e3d-997d1d4e95e9",
   "metadata": {},
   "outputs": [
    {
     "name": "stdout",
     "output_type": "stream",
     "text": [
      "Collection 'admission_records' created successfully.\n"
     ]
    }
   ],
   "source": [
    "create_collection()"
   ]
  },
  {
   "cell_type": "code",
   "execution_count": 6,
   "id": "f1a0257a-aefa-42ec-aadc-7bf43e86da16",
   "metadata": {},
   "outputs": [],
   "source": [
    "def generate_openai_embedding(text):\n",
    "    try:\n",
    "        response = openai.embeddings.create(\n",
    "            input=text,\n",
    "            model=\"text-embedding-3-small\"\n",
    "        )\n",
    "        embedding = response.data[0].embedding\n",
    "        return embedding\n",
    "    except Exception as e:\n",
    "        print(f\"Error generating embedding: {e}\")\n",
    "        return None\n"
   ]
  },
  {
   "cell_type": "code",
   "execution_count": 7,
   "id": "bff7cdcf-cd5d-4be8-b6f2-5391aa1a4642",
   "metadata": {},
   "outputs": [],
   "source": [
    "# Search data in Qdrant\n",
    "def search_similar_vectors(query_text, top_k=5):\n",
    "    query_embedding = generate_openai_embedding(query_text)\n",
    "    if not query_embedding:\n",
    "        print(\"Failed to generate query embedding.\")\n",
    "        return\n",
    "\n",
    "    search_results = client.search(\n",
    "        collection_name=collection_name,\n",
    "        query_vector=query_embedding,\n",
    "        limit=top_k\n",
    "    )\n",
    "\n",
    "    for result in search_results:\n",
    "        print(f\"Found ID: {result.id}, Score: {result.score}, Metadata: {result.payload}\")"
   ]
  },
  {
   "cell_type": "code",
   "execution_count": 18,
   "id": "81b34cd9-6b28-4178-b912-1fec989c228c",
   "metadata": {},
   "outputs": [
    {
     "name": "stdout",
     "output_type": "stream",
     "text": [
      "Found ID: 4ca8c30e-632e-51bf-932d-8792521ce5a8, Score: 0.34026676, Metadata: {'major': 'วศ.บ. สาขาวิชาวิศวกรรมซอฟต์แวร์และความรู้ (นานาชาติ)', 'admission_round': '1/1', 'admission_program': 'นานาชาติและภาษาอังกฤษ', 'reference': 'https://admission.ku.ac.th/majors/project/3/', 'created_at': '2025-01-25T16:37:01.837049', 'contents': 'N/A'}\n",
      "Found ID: dd405448-8a3c-55bf-9244-031e4b5f69cf, Score: 0.33196616, Metadata: {'major': 'วศ.บ. สาขาวิชาวิศวกรรมสิ่งแวดล้อม (หลักสูตรภาษาอังกฤษ)', 'admission_round': '1/1', 'admission_program': 'นานาชาติและภาษาอังกฤษ', 'reference': 'https://admission.ku.ac.th/majors/project/3/', 'created_at': '2025-01-25T16:37:01.806305', 'contents': 'N/A'}\n",
      "Found ID: ace11b65-fe52-55b5-9218-b035bd9b08ed, Score: 0.3309437, Metadata: {'major': 'วศ.บ. สาขาวิชาวิศวกรรมโยธา (หลักสูตรภาษาอังกฤษ)', 'admission_round': '1/1', 'admission_program': 'นานาชาติและภาษาอังกฤษ', 'reference': 'https://admission.ku.ac.th/majors/project/3/', 'created_at': '2025-01-25T16:37:01.797005', 'contents': 'N/A'}\n",
      "Found ID: cdfb440c-55ac-5df5-8841-14a881a6da00, Score: 0.32479048, Metadata: {'major': 'วศ.บ. สาขาวิชาวิศวกรรมไฟฟ้า (หลักสูตรภาษาอังกฤษ)', 'admission_round': '1/1', 'admission_program': 'นานาชาติและภาษาอังกฤษ', 'reference': 'https://admission.ku.ac.th/majors/project/3/', 'created_at': '2025-01-25T16:37:01.791615', 'contents': 'N/A'}\n",
      "Found ID: 798ab5a6-7fbe-5285-abe4-516cd6d23a37, Score: 0.3206869, Metadata: {'major': 'วศ.บ. สาขาวิชาวิศวกรรมอุตสาหการ (หลักสูตรภาษาอังกฤษ)', 'admission_round': '1/1', 'admission_program': 'นานาชาติและภาษาอังกฤษ', 'reference': 'https://admission.ku.ac.th/majors/project/3/', 'created_at': '2025-01-25T16:37:01.815009', 'contents': 'N/A'}\n"
     ]
    }
   ],
   "source": [
    "from qdrant_client.models import Filter, FieldCondition, MatchValue\n",
    "\n",
    "query = \"เกณฑ์ของภาควิศวกรรมซอฟต์แวร์และความรู้ รอบ1/1 นานาชาติและภาษาอังกฤษ\"\n",
    "search_result = client.search(\n",
    "    collection_name=collection_name,\n",
    "    query_vector=generate_openai_embedding(query),\n",
    "    query_filter=Filter(\n",
    "        must=[\n",
    "            FieldCondition(key=\"admission_round\", match=MatchValue(value=\"1/1\")),\n",
    "            FieldCondition(key=\"admission_program\", match=MatchValue(value=\"นานาชาติและภาษาอังกฤษ\")),\n",
    "        ]\n",
    "    ),\n",
    "    with_payload=True,\n",
    "    limit=5,\n",
    ")\n",
    "\n",
    "for result in search_result:\n",
    "        print(f\"Found ID: {result.id}, Score: {result.score}, Metadata: {result.payload}\")"
   ]
  },
  {
   "cell_type": "code",
   "execution_count": null,
   "id": "4de5a1d1-0a52-4382-8618-45683aab66f3",
   "metadata": {},
   "outputs": [],
   "source": []
  }
 ],
 "metadata": {
  "kernelspec": {
   "display_name": "Python 3 (ipykernel)",
   "language": "python",
   "name": "python3"
  },
  "language_info": {
   "codemirror_mode": {
    "name": "ipython",
    "version": 3
   },
   "file_extension": ".py",
   "mimetype": "text/x-python",
   "name": "python",
   "nbconvert_exporter": "python",
   "pygments_lexer": "ipython3",
   "version": "3.12.8"
  }
 },
 "nbformat": 4,
 "nbformat_minor": 5
}
